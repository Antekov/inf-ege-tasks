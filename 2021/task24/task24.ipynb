{
 "metadata": {
  "language_info": {
   "codemirror_mode": {
    "name": "ipython",
    "version": 3
   },
   "file_extension": ".py",
   "mimetype": "text/x-python",
   "name": "python",
   "nbconvert_exporter": "python",
   "pygments_lexer": "ipython3",
   "version": "3.9.1-final"
  },
  "orig_nbformat": 2,
  "kernelspec": {
   "name": "python3",
   "display_name": "Python 3.9.1 64-bit",
   "metadata": {
    "interpreter": {
     "hash": "5e00c6f23aca1f17a0a3bbc1f5ebbe045b1653e687719c84499dc32742f8b1d5"
    }
   }
  }
 },
 "nbformat": 4,
 "nbformat_minor": 2,
 "cells": [
  {
   "source": [
    "Текстовый  файл  содержит  только  заглавные  буквы  латинского  алфавита (ABC...Z).  Определите  символ,  который  чаще  всего  встречается  в  файле между двумя одинаковыми символами.Например, в тексте CBCABABACCC есть комбинации CBC, ABA(два раза), BABи CCC. Чаще всего – 3 раза – между двумя одинаковыми символами стоит B, в ответе для этого случая надо написать B."
   ],
   "cell_type": "markdown",
   "metadata": {}
  },
  {
   "cell_type": "code",
   "execution_count": 13,
   "metadata": {},
   "outputs": [
    {
     "output_type": "stream",
     "name": "stdout",
     "text": [
      "B defaultdict(<class 'int'>, {'B': 3, 'A': 1, 'C': 1})\n"
     ]
    }
   ],
   "source": [
    "s = 'CBCABABACCC'\n",
    "\n",
    "import re\n",
    "from collections import defaultdict\n",
    "\n",
    "d = defaultdict(int)\n",
    "max_char = ''\n",
    "\n",
    "for i in range(1, len(s) - 1):\n",
    "     if s[i-1] == s[i+1]:\n",
    "         d[s[i]] += 1\n",
    "         if max_char == '' or d[s[i]] > d[max_char]:\n",
    "             max_char = s[i]\n",
    "\n",
    "print(max_char, d)"
   ]
  },
  {
   "cell_type": "code",
   "execution_count": 14,
   "metadata": {},
   "outputs": [
    {
     "output_type": "stream",
     "name": "stdout",
     "text": [
      "D defaultdict(<class 'int'>, {'P': 1502, 'U': 1445, 'N': 1439, 'D': 1517, 'S': 1501, 'B': 1423, 'O': 1507, 'E': 1400, 'T': 1410, 'C': 1400, 'Q': 1468, 'G': 1502, 'F': 1446, 'H': 1479, 'M': 1481, 'Z': 1447, 'J': 1461, 'W': 1490, 'Y': 1441, 'A': 1509, 'I': 1446, 'V': 1505, 'L': 1459, 'R': 1461, 'X': 1490, 'K': 1443})\n"
     ]
    }
   ],
   "source": [
    "f = open('../tests/Statgrad-EGE-2021-02/24.txt' ,'r')\n",
    "s = f.readline().strip()\n",
    "\n",
    "import re\n",
    "from collections import defaultdict\n",
    "\n",
    "d = defaultdict(int)\n",
    "max_char = ''\n",
    "\n",
    "for i in range(1, len(s) - 1):\n",
    "     if s[i-1] == s[i+1]:\n",
    "         d[s[i]] += 1\n",
    "         if max_char == '' or d[s[i]] > d[max_char]:\n",
    "             max_char = s[i]\n",
    "\n",
    "print(max_char, d)\n",
    "f.close()"
   ]
  },
  {
   "cell_type": "code",
   "execution_count": null,
   "metadata": {},
   "outputs": [],
   "source": []
  }
 ]
}